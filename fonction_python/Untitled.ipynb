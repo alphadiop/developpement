{
 "cells": [
  {
   "cell_type": "code",
   "execution_count": 19,
   "id": "royal-pocket",
   "metadata": {},
   "outputs": [
    {
     "data": {
      "text/plain": [
       "['ACTION_CHECKBOX_NAME',\n",
       " 'AdminSite',\n",
       " 'AllValuesFieldListFilter',\n",
       " 'BooleanFieldListFilter',\n",
       " 'ChoicesFieldListFilter',\n",
       " 'DateFieldListFilter',\n",
       " 'FieldListFilter',\n",
       " 'HORIZONTAL',\n",
       " 'ListFilter',\n",
       " 'ModelAdmin',\n",
       " 'RelatedFieldListFilter',\n",
       " 'RelatedOnlyFieldListFilter',\n",
       " 'SimpleListFilter',\n",
       " 'StackedInline',\n",
       " 'TabularInline',\n",
       " 'VERTICAL',\n",
       " '__all__',\n",
       " '__builtins__',\n",
       " '__cached__',\n",
       " '__doc__',\n",
       " '__file__',\n",
       " '__loader__',\n",
       " '__name__',\n",
       " '__package__',\n",
       " '__path__',\n",
       " '__spec__',\n",
       " 'actions',\n",
       " 'autodiscover',\n",
       " 'autodiscover_modules',\n",
       " 'checks',\n",
       " 'decorators',\n",
       " 'default_app_config',\n",
       " 'exceptions',\n",
       " 'filters',\n",
       " 'helpers',\n",
       " 'options',\n",
       " 'register',\n",
       " 'site',\n",
       " 'sites',\n",
       " 'templatetags',\n",
       " 'utils',\n",
       " 'views',\n",
       " 'widgets']"
      ]
     },
     "execution_count": 19,
     "metadata": {},
     "output_type": "execute_result"
    }
   ],
   "source": [
    "import django\n",
    "import django.http\n",
    "from django.db import models\n",
    "from django.contrib import admin\n",
    "#dir(models)\n",
    "#dir(django)\n",
    "dir(admin)\n",
    "# django/contrib dans la distribution de Django d'ou from django.contrib import admin"
   ]
  },
  {
   "cell_type": "code",
   "execution_count": null,
   "id": "decent-alpha",
   "metadata": {},
   "outputs": [],
   "source": []
  },
  {
   "cell_type": "code",
   "execution_count": null,
   "id": "middle-faculty",
   "metadata": {},
   "outputs": [],
   "source": []
  },
  {
   "cell_type": "code",
   "execution_count": null,
   "id": "disabled-sunset",
   "metadata": {},
   "outputs": [],
   "source": []
  }
 ],
 "metadata": {
  "kernelspec": {
   "display_name": "Python 3",
   "language": "python",
   "name": "python3"
  },
  "language_info": {
   "codemirror_mode": {
    "name": "ipython",
    "version": 3
   },
   "file_extension": ".py",
   "mimetype": "text/x-python",
   "name": "python",
   "nbconvert_exporter": "python",
   "pygments_lexer": "ipython3",
   "version": "3.7.6"
  }
 },
 "nbformat": 4,
 "nbformat_minor": 5
}
