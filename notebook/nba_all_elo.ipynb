{
 "cells": [
  {
   "cell_type": "code",
   "execution_count": 1,
   "id": "311a8101",
   "metadata": {},
   "outputs": [],
   "source": [
    "import pandas as pd\n",
    "import os"
   ]
  },
  {
   "cell_type": "code",
   "execution_count": null,
   "id": "78581a1e",
   "metadata": {},
   "outputs": [],
   "source": [
    "#https://realpython.com/pandas-python-explore-dataset/"
   ]
  },
  {
   "cell_type": "code",
   "execution_count": 3,
   "id": "269dacbc",
   "metadata": {},
   "outputs": [],
   "source": [
    "path = r\"D:\\data_figees\""
   ]
  },
  {
   "cell_type": "code",
   "execution_count": 9,
   "id": "068bfa68",
   "metadata": {},
   "outputs": [],
   "source": [
    "pd.set_option(\"display.max.columns\", None)\n",
    "pd.set_option(\"display.precision\", 5)"
   ]
  },
  {
   "cell_type": "code",
   "execution_count": 5,
   "id": "fa4c58ea",
   "metadata": {},
   "outputs": [],
   "source": [
    "nba = pd.read_csv(os.path.join(path,\"nba_all_elo.csv\"))"
   ]
  },
  {
   "cell_type": "code",
   "execution_count": 79,
   "id": "edff3d6e",
   "metadata": {},
   "outputs": [
    {
     "data": {
      "text/plain": [
       "['gameorder',\n",
       " 'game_id',\n",
       " 'lg_id',\n",
       " '_iscopy',\n",
       " 'year_id',\n",
       " 'date_game',\n",
       " 'seasongame',\n",
       " 'is_playoffs',\n",
       " 'team_id',\n",
       " 'fran_id',\n",
       " 'pts',\n",
       " 'elo_i',\n",
       " 'elo_n',\n",
       " 'win_equiv',\n",
       " 'opp_id',\n",
       " 'opp_fran',\n",
       " 'opp_pts',\n",
       " 'opp_elo_i',\n",
       " 'opp_elo_n',\n",
       " 'game_location',\n",
       " 'game_result',\n",
       " 'forecast',\n",
       " 'notes',\n",
       " 'date_played']"
      ]
     },
     "execution_count": 79,
     "metadata": {},
     "output_type": "execute_result"
    }
   ],
   "source": [
    "nba.columns.tolist()"
   ]
  },
  {
   "cell_type": "code",
   "execution_count": null,
   "id": "8587cbe2",
   "metadata": {},
   "outputs": [],
   "source": []
  },
  {
   "cell_type": "code",
   "execution_count": 12,
   "id": "a1368b43",
   "metadata": {},
   "outputs": [
    {
     "data": {
      "text/html": [
       "<div>\n",
       "<style scoped>\n",
       "    .dataframe tbody tr th:only-of-type {\n",
       "        vertical-align: middle;\n",
       "    }\n",
       "\n",
       "    .dataframe tbody tr th {\n",
       "        vertical-align: top;\n",
       "    }\n",
       "\n",
       "    .dataframe thead th {\n",
       "        text-align: right;\n",
       "    }\n",
       "</style>\n",
       "<table border=\"1\" class=\"dataframe\">\n",
       "  <thead>\n",
       "    <tr style=\"text-align: right;\">\n",
       "      <th></th>\n",
       "      <th>gameorder</th>\n",
       "      <th>game_id</th>\n",
       "      <th>lg_id</th>\n",
       "      <th>_iscopy</th>\n",
       "      <th>year_id</th>\n",
       "      <th>date_game</th>\n",
       "      <th>seasongame</th>\n",
       "      <th>is_playoffs</th>\n",
       "      <th>team_id</th>\n",
       "      <th>fran_id</th>\n",
       "      <th>pts</th>\n",
       "      <th>elo_i</th>\n",
       "      <th>elo_n</th>\n",
       "      <th>win_equiv</th>\n",
       "      <th>opp_id</th>\n",
       "      <th>opp_fran</th>\n",
       "      <th>opp_pts</th>\n",
       "      <th>opp_elo_i</th>\n",
       "      <th>opp_elo_n</th>\n",
       "      <th>game_location</th>\n",
       "      <th>game_result</th>\n",
       "      <th>forecast</th>\n",
       "      <th>notes</th>\n",
       "    </tr>\n",
       "  </thead>\n",
       "  <tbody>\n",
       "    <tr>\n",
       "      <th>0</th>\n",
       "      <td>1</td>\n",
       "      <td>194611010TRH</td>\n",
       "      <td>NBA</td>\n",
       "      <td>0</td>\n",
       "      <td>1947</td>\n",
       "      <td>11/1/1946</td>\n",
       "      <td>1</td>\n",
       "      <td>0</td>\n",
       "      <td>TRH</td>\n",
       "      <td>Huskies</td>\n",
       "      <td>66</td>\n",
       "      <td>1300.0000</td>\n",
       "      <td>1293.2767</td>\n",
       "      <td>40.29483</td>\n",
       "      <td>NYK</td>\n",
       "      <td>Knicks</td>\n",
       "      <td>68</td>\n",
       "      <td>1300.0000</td>\n",
       "      <td>1306.7233</td>\n",
       "      <td>H</td>\n",
       "      <td>L</td>\n",
       "      <td>0.64007</td>\n",
       "      <td>NaN</td>\n",
       "    </tr>\n",
       "    <tr>\n",
       "      <th>1</th>\n",
       "      <td>1</td>\n",
       "      <td>194611010TRH</td>\n",
       "      <td>NBA</td>\n",
       "      <td>1</td>\n",
       "      <td>1947</td>\n",
       "      <td>11/1/1946</td>\n",
       "      <td>1</td>\n",
       "      <td>0</td>\n",
       "      <td>NYK</td>\n",
       "      <td>Knicks</td>\n",
       "      <td>68</td>\n",
       "      <td>1300.0000</td>\n",
       "      <td>1306.7233</td>\n",
       "      <td>41.70517</td>\n",
       "      <td>TRH</td>\n",
       "      <td>Huskies</td>\n",
       "      <td>66</td>\n",
       "      <td>1300.0000</td>\n",
       "      <td>1293.2767</td>\n",
       "      <td>A</td>\n",
       "      <td>W</td>\n",
       "      <td>0.35993</td>\n",
       "      <td>NaN</td>\n",
       "    </tr>\n",
       "    <tr>\n",
       "      <th>2</th>\n",
       "      <td>2</td>\n",
       "      <td>194611020CHS</td>\n",
       "      <td>NBA</td>\n",
       "      <td>0</td>\n",
       "      <td>1947</td>\n",
       "      <td>11/2/1946</td>\n",
       "      <td>1</td>\n",
       "      <td>0</td>\n",
       "      <td>CHS</td>\n",
       "      <td>Stags</td>\n",
       "      <td>63</td>\n",
       "      <td>1300.0000</td>\n",
       "      <td>1309.6521</td>\n",
       "      <td>42.01226</td>\n",
       "      <td>NYK</td>\n",
       "      <td>Knicks</td>\n",
       "      <td>47</td>\n",
       "      <td>1306.7233</td>\n",
       "      <td>1297.0712</td>\n",
       "      <td>H</td>\n",
       "      <td>W</td>\n",
       "      <td>0.63110</td>\n",
       "      <td>NaN</td>\n",
       "    </tr>\n",
       "    <tr>\n",
       "      <th>3</th>\n",
       "      <td>2</td>\n",
       "      <td>194611020CHS</td>\n",
       "      <td>NBA</td>\n",
       "      <td>1</td>\n",
       "      <td>1947</td>\n",
       "      <td>11/2/1946</td>\n",
       "      <td>2</td>\n",
       "      <td>0</td>\n",
       "      <td>NYK</td>\n",
       "      <td>Knicks</td>\n",
       "      <td>47</td>\n",
       "      <td>1306.7233</td>\n",
       "      <td>1297.0712</td>\n",
       "      <td>40.69278</td>\n",
       "      <td>CHS</td>\n",
       "      <td>Stags</td>\n",
       "      <td>63</td>\n",
       "      <td>1300.0000</td>\n",
       "      <td>1309.6521</td>\n",
       "      <td>A</td>\n",
       "      <td>L</td>\n",
       "      <td>0.36890</td>\n",
       "      <td>NaN</td>\n",
       "    </tr>\n",
       "    <tr>\n",
       "      <th>4</th>\n",
       "      <td>3</td>\n",
       "      <td>194611020DTF</td>\n",
       "      <td>NBA</td>\n",
       "      <td>0</td>\n",
       "      <td>1947</td>\n",
       "      <td>11/2/1946</td>\n",
       "      <td>1</td>\n",
       "      <td>0</td>\n",
       "      <td>DTF</td>\n",
       "      <td>Falcons</td>\n",
       "      <td>33</td>\n",
       "      <td>1300.0000</td>\n",
       "      <td>1279.6189</td>\n",
       "      <td>38.86405</td>\n",
       "      <td>WSC</td>\n",
       "      <td>Capitols</td>\n",
       "      <td>50</td>\n",
       "      <td>1300.0000</td>\n",
       "      <td>1320.3811</td>\n",
       "      <td>H</td>\n",
       "      <td>L</td>\n",
       "      <td>0.64007</td>\n",
       "      <td>NaN</td>\n",
       "    </tr>\n",
       "  </tbody>\n",
       "</table>\n",
       "</div>"
      ],
      "text/plain": [
       "   gameorder       game_id lg_id  _iscopy  year_id  date_game  seasongame  \\\n",
       "0          1  194611010TRH   NBA        0     1947  11/1/1946           1   \n",
       "1          1  194611010TRH   NBA        1     1947  11/1/1946           1   \n",
       "2          2  194611020CHS   NBA        0     1947  11/2/1946           1   \n",
       "3          2  194611020CHS   NBA        1     1947  11/2/1946           2   \n",
       "4          3  194611020DTF   NBA        0     1947  11/2/1946           1   \n",
       "\n",
       "   is_playoffs team_id  fran_id  pts      elo_i      elo_n  win_equiv opp_id  \\\n",
       "0            0     TRH  Huskies   66  1300.0000  1293.2767   40.29483    NYK   \n",
       "1            0     NYK   Knicks   68  1300.0000  1306.7233   41.70517    TRH   \n",
       "2            0     CHS    Stags   63  1300.0000  1309.6521   42.01226    NYK   \n",
       "3            0     NYK   Knicks   47  1306.7233  1297.0712   40.69278    CHS   \n",
       "4            0     DTF  Falcons   33  1300.0000  1279.6189   38.86405    WSC   \n",
       "\n",
       "   opp_fran  opp_pts  opp_elo_i  opp_elo_n game_location game_result  \\\n",
       "0    Knicks       68  1300.0000  1306.7233             H           L   \n",
       "1   Huskies       66  1300.0000  1293.2767             A           W   \n",
       "2    Knicks       47  1306.7233  1297.0712             H           W   \n",
       "3     Stags       63  1300.0000  1309.6521             A           L   \n",
       "4  Capitols       50  1300.0000  1320.3811             H           L   \n",
       "\n",
       "   forecast notes  \n",
       "0   0.64007   NaN  \n",
       "1   0.35993   NaN  \n",
       "2   0.63110   NaN  \n",
       "3   0.36890   NaN  \n",
       "4   0.64007   NaN  "
      ]
     },
     "execution_count": 12,
     "metadata": {},
     "output_type": "execute_result"
    }
   ],
   "source": [
    "nba.head()"
   ]
  },
  {
   "cell_type": "code",
   "execution_count": 11,
   "id": "1a7acabb",
   "metadata": {},
   "outputs": [
    {
     "name": "stdout",
     "output_type": "stream",
     "text": [
      "<class 'pandas.core.frame.DataFrame'>\n",
      "RangeIndex: 126314 entries, 0 to 126313\n",
      "Data columns (total 23 columns):\n",
      " #   Column         Non-Null Count   Dtype  \n",
      "---  ------         --------------   -----  \n",
      " 0   gameorder      126314 non-null  int64  \n",
      " 1   game_id        126314 non-null  object \n",
      " 2   lg_id          126314 non-null  object \n",
      " 3   _iscopy        126314 non-null  int64  \n",
      " 4   year_id        126314 non-null  int64  \n",
      " 5   date_game      126314 non-null  object \n",
      " 6   seasongame     126314 non-null  int64  \n",
      " 7   is_playoffs    126314 non-null  int64  \n",
      " 8   team_id        126314 non-null  object \n",
      " 9   fran_id        126314 non-null  object \n",
      " 10  pts            126314 non-null  int64  \n",
      " 11  elo_i          126314 non-null  float64\n",
      " 12  elo_n          126314 non-null  float64\n",
      " 13  win_equiv      126314 non-null  float64\n",
      " 14  opp_id         126314 non-null  object \n",
      " 15  opp_fran       126314 non-null  object \n",
      " 16  opp_pts        126314 non-null  int64  \n",
      " 17  opp_elo_i      126314 non-null  float64\n",
      " 18  opp_elo_n      126314 non-null  float64\n",
      " 19  game_location  126314 non-null  object \n",
      " 20  game_result    126314 non-null  object \n",
      " 21  forecast       126314 non-null  float64\n",
      " 22  notes          5424 non-null    object \n",
      "dtypes: float64(6), int64(7), object(10)\n",
      "memory usage: 22.2+ MB\n"
     ]
    }
   ],
   "source": [
    "nba.info()"
   ]
  },
  {
   "cell_type": "code",
   "execution_count": null,
   "id": "061af709",
   "metadata": {},
   "outputs": [],
   "source": []
  },
  {
   "cell_type": "code",
   "execution_count": 14,
   "id": "016f0d33",
   "metadata": {},
   "outputs": [],
   "source": [
    "nba[\"date_played\"] = pd.to_datetime(nba[\"date_game\"])"
   ]
  },
  {
   "cell_type": "code",
   "execution_count": 16,
   "id": "ed7c232c",
   "metadata": {},
   "outputs": [
    {
     "data": {
      "text/plain": [
       "Timestamp('1948-11-04 00:00:00')"
      ]
     },
     "execution_count": 16,
     "metadata": {},
     "output_type": "execute_result"
    }
   ],
   "source": [
    "nba.loc[nba[\"team_id\"] == \"MNL\", \"date_played\"].min()"
   ]
  },
  {
   "cell_type": "code",
   "execution_count": 17,
   "id": "af34decc",
   "metadata": {},
   "outputs": [
    {
     "data": {
      "text/plain": [
       "Timestamp('1960-03-26 00:00:00')"
      ]
     },
     "execution_count": 17,
     "metadata": {},
     "output_type": "execute_result"
    }
   ],
   "source": [
    "nba.loc[nba['team_id'] == 'MNL', 'date_played'].max()"
   ]
  },
  {
   "cell_type": "code",
   "execution_count": null,
   "id": "6585dd83",
   "metadata": {},
   "outputs": [],
   "source": []
  },
  {
   "cell_type": "code",
   "execution_count": 18,
   "id": "ebdfca00",
   "metadata": {},
   "outputs": [
    {
     "data": {
      "text/plain": [
       "min   1948-11-04\n",
       "max   1960-03-26\n",
       "Name: date_played, dtype: datetime64[ns]"
      ]
     },
     "execution_count": 18,
     "metadata": {},
     "output_type": "execute_result"
    }
   ],
   "source": [
    "nba.loc[nba[\"team_id\"] == \"MNL\", \"date_played\"].agg((\"min\", \"max\"))"
   ]
  },
  {
   "cell_type": "code",
   "execution_count": null,
   "id": "e8052e90",
   "metadata": {},
   "outputs": [],
   "source": []
  },
  {
   "cell_type": "code",
   "execution_count": 36,
   "id": "7bdc7c5e",
   "metadata": {},
   "outputs": [
    {
     "data": {
      "text/plain": [
       "626484"
      ]
     },
     "execution_count": 36,
     "metadata": {},
     "output_type": "execute_result"
    }
   ],
   "source": [
    "col = ['pts']\n",
    "nba[nba[\"team_id\"] == \"BOS\"][col].sum().values[0]"
   ]
  },
  {
   "cell_type": "code",
   "execution_count": 31,
   "id": "eb47c71e",
   "metadata": {},
   "outputs": [
    {
     "data": {
      "text/plain": [
       "pandas.core.series.Series"
      ]
     },
     "execution_count": 31,
     "metadata": {},
     "output_type": "execute_result"
    }
   ],
   "source": [
    "type(nba.loc[nba[\"team_id\"] == \"BOS\", \"pts\"])"
   ]
  },
  {
   "cell_type": "code",
   "execution_count": 29,
   "id": "65dcd050",
   "metadata": {},
   "outputs": [
    {
     "data": {
      "text/plain": [
       "626484"
      ]
     },
     "execution_count": 29,
     "metadata": {},
     "output_type": "execute_result"
    }
   ],
   "source": [
    "nba.loc[nba[\"team_id\"] == \"BOS\", \"pts\"].sum()"
   ]
  },
  {
   "cell_type": "code",
   "execution_count": 42,
   "id": "78b8b850",
   "metadata": {},
   "outputs": [
    {
     "data": {
      "text/plain": [
       "(12658, 24)"
      ]
     },
     "execution_count": 42,
     "metadata": {},
     "output_type": "execute_result"
    }
   ],
   "source": [
    "#nba[\"year_id\"].unique().tolist()\n",
    "current_decade = nba[nba[\"year_id\"] > 2010]\n",
    "current_decade.shape"
   ]
  },
  {
   "cell_type": "code",
   "execution_count": null,
   "id": "6b3c010f",
   "metadata": {},
   "outputs": [],
   "source": []
  },
  {
   "cell_type": "code",
   "execution_count": 40,
   "id": "089c573b",
   "metadata": {},
   "outputs": [
    {
     "data": {
      "text/plain": [
       "(5424, 24)"
      ]
     },
     "execution_count": 40,
     "metadata": {},
     "output_type": "execute_result"
    }
   ],
   "source": [
    "games_with_notes = nba[nba[\"notes\"].notnull()]\n",
    "games_with_notes.shape"
   ]
  },
  {
   "cell_type": "code",
   "execution_count": null,
   "id": "7ce1bf6b",
   "metadata": {},
   "outputs": [],
   "source": []
  },
  {
   "cell_type": "code",
   "execution_count": 45,
   "id": "1ca1b5da",
   "metadata": {},
   "outputs": [],
   "source": [
    "#nba[\"fran_id\"].unique().tolist()"
   ]
  },
  {
   "cell_type": "code",
   "execution_count": 43,
   "id": "e051d2ed",
   "metadata": {},
   "outputs": [
    {
     "data": {
      "text/plain": [
       "(27797, 24)"
      ]
     },
     "execution_count": 43,
     "metadata": {},
     "output_type": "execute_result"
    }
   ],
   "source": [
    "ers = nba[nba[\"fran_id\"].str.endswith(\"ers\")]\n",
    "ers.shape"
   ]
  },
  {
   "cell_type": "code",
   "execution_count": null,
   "id": "bb3618a3",
   "metadata": {},
   "outputs": [],
   "source": []
  },
  {
   "cell_type": "code",
   "execution_count": 46,
   "id": "f3b5cded",
   "metadata": {},
   "outputs": [
    {
     "data": {
      "text/html": [
       "<div>\n",
       "<style scoped>\n",
       "    .dataframe tbody tr th:only-of-type {\n",
       "        vertical-align: middle;\n",
       "    }\n",
       "\n",
       "    .dataframe tbody tr th {\n",
       "        vertical-align: top;\n",
       "    }\n",
       "\n",
       "    .dataframe thead th {\n",
       "        text-align: right;\n",
       "    }\n",
       "</style>\n",
       "<table border=\"1\" class=\"dataframe\">\n",
       "  <thead>\n",
       "    <tr style=\"text-align: right;\">\n",
       "      <th></th>\n",
       "      <th>gameorder</th>\n",
       "      <th>game_id</th>\n",
       "      <th>lg_id</th>\n",
       "      <th>_iscopy</th>\n",
       "      <th>year_id</th>\n",
       "      <th>date_game</th>\n",
       "      <th>seasongame</th>\n",
       "      <th>is_playoffs</th>\n",
       "      <th>team_id</th>\n",
       "      <th>fran_id</th>\n",
       "      <th>pts</th>\n",
       "      <th>elo_i</th>\n",
       "      <th>elo_n</th>\n",
       "      <th>win_equiv</th>\n",
       "      <th>opp_id</th>\n",
       "      <th>opp_fran</th>\n",
       "      <th>opp_pts</th>\n",
       "      <th>opp_elo_i</th>\n",
       "      <th>opp_elo_n</th>\n",
       "      <th>game_location</th>\n",
       "      <th>game_result</th>\n",
       "      <th>forecast</th>\n",
       "      <th>notes</th>\n",
       "      <th>date_played</th>\n",
       "    </tr>\n",
       "  </thead>\n",
       "  <tbody>\n",
       "    <tr>\n",
       "      <th>1726</th>\n",
       "      <td>864</td>\n",
       "      <td>194902260BLB</td>\n",
       "      <td>NBA</td>\n",
       "      <td>0</td>\n",
       "      <td>1949</td>\n",
       "      <td>2/26/1949</td>\n",
       "      <td>53</td>\n",
       "      <td>0</td>\n",
       "      <td>BLB</td>\n",
       "      <td>Baltimore</td>\n",
       "      <td>114</td>\n",
       "      <td>1421.9351</td>\n",
       "      <td>1419.4280</td>\n",
       "      <td>38.55754</td>\n",
       "      <td>MNL</td>\n",
       "      <td>Lakers</td>\n",
       "      <td>115</td>\n",
       "      <td>1637.9852</td>\n",
       "      <td>1640.4923</td>\n",
       "      <td>H</td>\n",
       "      <td>L</td>\n",
       "      <td>0.33894</td>\n",
       "      <td>NaN</td>\n",
       "      <td>1949-02-26</td>\n",
       "    </tr>\n",
       "    <tr>\n",
       "      <th>4890</th>\n",
       "      <td>2446</td>\n",
       "      <td>195301100BLB</td>\n",
       "      <td>NBA</td>\n",
       "      <td>0</td>\n",
       "      <td>1953</td>\n",
       "      <td>1/10/1953</td>\n",
       "      <td>32</td>\n",
       "      <td>0</td>\n",
       "      <td>BLB</td>\n",
       "      <td>Baltimore</td>\n",
       "      <td>126</td>\n",
       "      <td>1328.6687</td>\n",
       "      <td>1356.6470</td>\n",
       "      <td>25.79779</td>\n",
       "      <td>BOS</td>\n",
       "      <td>Celtics</td>\n",
       "      <td>105</td>\n",
       "      <td>1591.1434</td>\n",
       "      <td>1563.1652</td>\n",
       "      <td>H</td>\n",
       "      <td>W</td>\n",
       "      <td>0.28185</td>\n",
       "      <td>NaN</td>\n",
       "      <td>1953-01-10</td>\n",
       "    </tr>\n",
       "    <tr>\n",
       "      <th>4909</th>\n",
       "      <td>2455</td>\n",
       "      <td>195301140BLB</td>\n",
       "      <td>NBA</td>\n",
       "      <td>0</td>\n",
       "      <td>1953</td>\n",
       "      <td>1/14/1953</td>\n",
       "      <td>34</td>\n",
       "      <td>0</td>\n",
       "      <td>BLB</td>\n",
       "      <td>Baltimore</td>\n",
       "      <td>104</td>\n",
       "      <td>1349.8323</td>\n",
       "      <td>1346.3594</td>\n",
       "      <td>24.87624</td>\n",
       "      <td>MNL</td>\n",
       "      <td>Lakers</td>\n",
       "      <td>112</td>\n",
       "      <td>1665.4396</td>\n",
       "      <td>1668.9125</td>\n",
       "      <td>H</td>\n",
       "      <td>L</td>\n",
       "      <td>0.22424</td>\n",
       "      <td>NaN</td>\n",
       "      <td>1953-01-14</td>\n",
       "    </tr>\n",
       "    <tr>\n",
       "      <th>5208</th>\n",
       "      <td>2605</td>\n",
       "      <td>195303110BLB</td>\n",
       "      <td>NBA</td>\n",
       "      <td>0</td>\n",
       "      <td>1953</td>\n",
       "      <td>3/11/1953</td>\n",
       "      <td>66</td>\n",
       "      <td>0</td>\n",
       "      <td>BLB</td>\n",
       "      <td>Baltimore</td>\n",
       "      <td>107</td>\n",
       "      <td>1284.5239</td>\n",
       "      <td>1282.2396</td>\n",
       "      <td>19.57968</td>\n",
       "      <td>NYK</td>\n",
       "      <td>Knicks</td>\n",
       "      <td>113</td>\n",
       "      <td>1649.1516</td>\n",
       "      <td>1651.4359</td>\n",
       "      <td>H</td>\n",
       "      <td>L</td>\n",
       "      <td>0.17897</td>\n",
       "      <td>at Boston MA</td>\n",
       "      <td>1953-03-11</td>\n",
       "    </tr>\n",
       "    <tr>\n",
       "      <th>5825</th>\n",
       "      <td>2913</td>\n",
       "      <td>195402220BLB</td>\n",
       "      <td>NBA</td>\n",
       "      <td>0</td>\n",
       "      <td>1954</td>\n",
       "      <td>2/22/1954</td>\n",
       "      <td>60</td>\n",
       "      <td>0</td>\n",
       "      <td>BLB</td>\n",
       "      <td>Baltimore</td>\n",
       "      <td>110</td>\n",
       "      <td>1303.7493</td>\n",
       "      <td>1301.9685</td>\n",
       "      <td>20.73699</td>\n",
       "      <td>BOS</td>\n",
       "      <td>Celtics</td>\n",
       "      <td>111</td>\n",
       "      <td>1591.4943</td>\n",
       "      <td>1593.2749</td>\n",
       "      <td>H</td>\n",
       "      <td>L</td>\n",
       "      <td>0.25336</td>\n",
       "      <td>at Worcester MA</td>\n",
       "      <td>1954-02-22</td>\n",
       "    </tr>\n",
       "  </tbody>\n",
       "</table>\n",
       "</div>"
      ],
      "text/plain": [
       "      gameorder       game_id lg_id  _iscopy  year_id  date_game  seasongame  \\\n",
       "1726        864  194902260BLB   NBA        0     1949  2/26/1949          53   \n",
       "4890       2446  195301100BLB   NBA        0     1953  1/10/1953          32   \n",
       "4909       2455  195301140BLB   NBA        0     1953  1/14/1953          34   \n",
       "5208       2605  195303110BLB   NBA        0     1953  3/11/1953          66   \n",
       "5825       2913  195402220BLB   NBA        0     1954  2/22/1954          60   \n",
       "\n",
       "      is_playoffs team_id    fran_id  pts      elo_i      elo_n  win_equiv  \\\n",
       "1726            0     BLB  Baltimore  114  1421.9351  1419.4280   38.55754   \n",
       "4890            0     BLB  Baltimore  126  1328.6687  1356.6470   25.79779   \n",
       "4909            0     BLB  Baltimore  104  1349.8323  1346.3594   24.87624   \n",
       "5208            0     BLB  Baltimore  107  1284.5239  1282.2396   19.57968   \n",
       "5825            0     BLB  Baltimore  110  1303.7493  1301.9685   20.73699   \n",
       "\n",
       "     opp_id opp_fran  opp_pts  opp_elo_i  opp_elo_n game_location game_result  \\\n",
       "1726    MNL   Lakers      115  1637.9852  1640.4923             H           L   \n",
       "4890    BOS  Celtics      105  1591.1434  1563.1652             H           W   \n",
       "4909    MNL   Lakers      112  1665.4396  1668.9125             H           L   \n",
       "5208    NYK   Knicks      113  1649.1516  1651.4359             H           L   \n",
       "5825    BOS  Celtics      111  1591.4943  1593.2749             H           L   \n",
       "\n",
       "      forecast            notes date_played  \n",
       "1726   0.33894              NaN  1949-02-26  \n",
       "4890   0.28185              NaN  1953-01-10  \n",
       "4909   0.22424              NaN  1953-01-14  \n",
       "5208   0.17897     at Boston MA  1953-03-11  \n",
       "5825   0.25336  at Worcester MA  1954-02-22  "
      ]
     },
     "execution_count": 46,
     "metadata": {},
     "output_type": "execute_result"
    }
   ],
   "source": [
    "nba[(nba[\"_iscopy\"] == 0) &\n",
    "    (nba[\"pts\"] > 100) &\n",
    "    (nba[\"opp_pts\"] > 100) &\n",
    "    (nba[\"team_id\"] == \"BLB\")\n",
    "]"
   ]
  },
  {
   "cell_type": "code",
   "execution_count": null,
   "id": "21a197b7",
   "metadata": {},
   "outputs": [],
   "source": []
  },
  {
   "cell_type": "code",
   "execution_count": 78,
   "id": "a3d480a4",
   "metadata": {},
   "outputs": [],
   "source": [
    "#nba.groupby(\"fran_id\", sort=False)[\"pts\"].sum()"
   ]
  },
  {
   "cell_type": "code",
   "execution_count": null,
   "id": "9c0e0718",
   "metadata": {},
   "outputs": [],
   "source": []
  },
  {
   "cell_type": "code",
   "execution_count": 49,
   "id": "7e1638d6",
   "metadata": {},
   "outputs": [
    {
     "data": {
      "text/plain": [
       "(126314, 24)"
      ]
     },
     "execution_count": 49,
     "metadata": {},
     "output_type": "execute_result"
    }
   ],
   "source": [
    "df = nba.copy()\n",
    "df.shape"
   ]
  },
  {
   "cell_type": "code",
   "execution_count": null,
   "id": "b19c2503",
   "metadata": {},
   "outputs": [],
   "source": []
  },
  {
   "cell_type": "code",
   "execution_count": 50,
   "id": "03b2e208",
   "metadata": {},
   "outputs": [
    {
     "data": {
      "text/plain": [
       "(126314, 25)"
      ]
     },
     "execution_count": 50,
     "metadata": {},
     "output_type": "execute_result"
    }
   ],
   "source": [
    "df[\"difference\"] = df.pts - df.opp_pts\n",
    "df.shape"
   ]
  },
  {
   "cell_type": "code",
   "execution_count": 52,
   "id": "8763564d",
   "metadata": {},
   "outputs": [
    {
     "data": {
      "text/plain": [
       "68"
      ]
     },
     "execution_count": 52,
     "metadata": {},
     "output_type": "execute_result"
    }
   ],
   "source": [
    "df[\"difference\"].max()"
   ]
  },
  {
   "cell_type": "code",
   "execution_count": null,
   "id": "faee1961",
   "metadata": {},
   "outputs": [],
   "source": []
  },
  {
   "cell_type": "code",
   "execution_count": 56,
   "id": "c965b818",
   "metadata": {},
   "outputs": [
    {
     "data": {
      "text/html": [
       "<div>\n",
       "<style scoped>\n",
       "    .dataframe tbody tr th:only-of-type {\n",
       "        vertical-align: middle;\n",
       "    }\n",
       "\n",
       "    .dataframe tbody tr th {\n",
       "        vertical-align: top;\n",
       "    }\n",
       "\n",
       "    .dataframe thead th {\n",
       "        text-align: right;\n",
       "    }\n",
       "</style>\n",
       "<table border=\"1\" class=\"dataframe\">\n",
       "  <thead>\n",
       "    <tr style=\"text-align: right;\">\n",
       "      <th></th>\n",
       "      <th>year_id</th>\n",
       "      <th>game_result</th>\n",
       "      <th>game_location</th>\n",
       "    </tr>\n",
       "  </thead>\n",
       "  <tbody>\n",
       "    <tr>\n",
       "      <th>0</th>\n",
       "      <td>1947</td>\n",
       "      <td>L</td>\n",
       "      <td>H</td>\n",
       "    </tr>\n",
       "    <tr>\n",
       "      <th>1</th>\n",
       "      <td>1947</td>\n",
       "      <td>W</td>\n",
       "      <td>A</td>\n",
       "    </tr>\n",
       "    <tr>\n",
       "      <th>2</th>\n",
       "      <td>1947</td>\n",
       "      <td>W</td>\n",
       "      <td>H</td>\n",
       "    </tr>\n",
       "    <tr>\n",
       "      <th>3</th>\n",
       "      <td>1947</td>\n",
       "      <td>L</td>\n",
       "      <td>A</td>\n",
       "    </tr>\n",
       "    <tr>\n",
       "      <th>4</th>\n",
       "      <td>1947</td>\n",
       "      <td>L</td>\n",
       "      <td>H</td>\n",
       "    </tr>\n",
       "  </tbody>\n",
       "</table>\n",
       "</div>"
      ],
      "text/plain": [
       "   year_id game_result game_location\n",
       "0     1947           L             H\n",
       "1     1947           W             A\n",
       "2     1947           W             H\n",
       "3     1947           L             A\n",
       "4     1947           L             H"
      ]
     },
     "execution_count": 56,
     "metadata": {},
     "output_type": "execute_result"
    }
   ],
   "source": [
    "col = [\"year_id\",\"game_result\",\"game_location\"]\n",
    "df[col].head()"
   ]
  },
  {
   "cell_type": "code",
   "execution_count": null,
   "id": "512390f8",
   "metadata": {},
   "outputs": [],
   "source": []
  },
  {
   "cell_type": "code",
   "execution_count": 57,
   "id": "dcd2b157",
   "metadata": {},
   "outputs": [],
   "source": [
    "dico = {\"game_result\": \"result\", \"game_location\": \"location\",\"year_id\":\"Annee\"}\n",
    "renamed_df = df.rename(columns=dico)"
   ]
  },
  {
   "cell_type": "code",
   "execution_count": 59,
   "id": "9e9145cc",
   "metadata": {},
   "outputs": [],
   "source": [
    "elo_columns = [\"elo_i\", \"elo_n\", \"opp_elo_i\", \"opp_elo_n\"]\n",
    "renamed_df.drop(elo_columns, inplace=True, axis=1)"
   ]
  },
  {
   "cell_type": "code",
   "execution_count": 61,
   "id": "91850e8d",
   "metadata": {},
   "outputs": [],
   "source": [
    "renamed_df[\"date_game\"] = pd.to_datetime(renamed_df[\"date_game\"])"
   ]
  },
  {
   "cell_type": "code",
   "execution_count": 64,
   "id": "af8ba5f4",
   "metadata": {},
   "outputs": [
    {
     "data": {
      "text/plain": [
       "False"
      ]
     },
     "execution_count": 64,
     "metadata": {},
     "output_type": "execute_result"
    }
   ],
   "source": [
    "\"game_location\" in renamed_df.columns.tolist()"
   ]
  },
  {
   "cell_type": "code",
   "execution_count": 65,
   "id": "d547a4a0",
   "metadata": {},
   "outputs": [
    {
     "data": {
      "text/plain": [
       "True"
      ]
     },
     "execution_count": 65,
     "metadata": {},
     "output_type": "execute_result"
    }
   ],
   "source": [
    "\"game_location\" in df.columns.tolist()"
   ]
  },
  {
   "cell_type": "code",
   "execution_count": 66,
   "id": "46d0c4ff",
   "metadata": {},
   "outputs": [
    {
     "data": {
      "text/plain": [
       "3"
      ]
     },
     "execution_count": 66,
     "metadata": {},
     "output_type": "execute_result"
    }
   ],
   "source": [
    "df[\"game_location\"].nunique()"
   ]
  },
  {
   "cell_type": "code",
   "execution_count": 67,
   "id": "f4779793",
   "metadata": {},
   "outputs": [
    {
     "data": {
      "text/plain": [
       "H    63138\n",
       "A    63138\n",
       "N       38\n",
       "Name: game_location, dtype: int64"
      ]
     },
     "execution_count": 67,
     "metadata": {},
     "output_type": "execute_result"
    }
   ],
   "source": [
    "df[\"game_location\"].value_counts()"
   ]
  },
  {
   "cell_type": "code",
   "execution_count": null,
   "id": "db6347fc",
   "metadata": {},
   "outputs": [],
   "source": []
  },
  {
   "cell_type": "code",
   "execution_count": null,
   "id": "87c75f22",
   "metadata": {},
   "outputs": [],
   "source": []
  },
  {
   "cell_type": "code",
   "execution_count": null,
   "id": "91ec1527",
   "metadata": {},
   "outputs": [],
   "source": []
  },
  {
   "cell_type": "code",
   "execution_count": 68,
   "id": "773d7a25",
   "metadata": {},
   "outputs": [
    {
     "data": {
      "text/plain": [
       "CategoricalDtype(categories=['A', 'H', 'N'], ordered=False)"
      ]
     },
     "execution_count": 68,
     "metadata": {},
     "output_type": "execute_result"
    }
   ],
   "source": [
    "df[\"game_location\"] = pd.Categorical(df[\"game_location\"])\n",
    "df[\"game_location\"].dtype"
   ]
  },
  {
   "cell_type": "code",
   "execution_count": null,
   "id": "804cf304",
   "metadata": {},
   "outputs": [],
   "source": []
  },
  {
   "cell_type": "code",
   "execution_count": 69,
   "id": "49179280",
   "metadata": {},
   "outputs": [],
   "source": [
    "df[\"game_result\"] = pd.Categorical(df[\"game_result\"])"
   ]
  },
  {
   "cell_type": "code",
   "execution_count": null,
   "id": "84fe8a0b",
   "metadata": {},
   "outputs": [],
   "source": []
  },
  {
   "cell_type": "code",
   "execution_count": 70,
   "id": "144e64f9",
   "metadata": {},
   "outputs": [
    {
     "data": {
      "text/plain": [
       "(5424, 24)"
      ]
     },
     "execution_count": 70,
     "metadata": {},
     "output_type": "execute_result"
    }
   ],
   "source": [
    "rows_without_missing_data = nba.dropna()\n",
    "rows_without_missing_data.shape"
   ]
  },
  {
   "cell_type": "code",
   "execution_count": null,
   "id": "30557db2",
   "metadata": {},
   "outputs": [],
   "source": []
  },
  {
   "cell_type": "code",
   "execution_count": 71,
   "id": "282594c0",
   "metadata": {},
   "outputs": [
    {
     "data": {
      "text/plain": [
       "(126314, 23)"
      ]
     },
     "execution_count": 71,
     "metadata": {},
     "output_type": "execute_result"
    }
   ],
   "source": [
    "data_without_missing_columns = nba.dropna(axis=1)\n",
    "data_without_missing_columns.shape"
   ]
  },
  {
   "cell_type": "code",
   "execution_count": null,
   "id": "71e8c932",
   "metadata": {},
   "outputs": [],
   "source": []
  },
  {
   "cell_type": "code",
   "execution_count": 72,
   "id": "efe893b1",
   "metadata": {},
   "outputs": [],
   "source": [
    "data_with_default_notes = nba.copy()\n",
    "data_with_default_notes[\"notes\"].fillna(value=\"\",inplace=True)"
   ]
  },
  {
   "cell_type": "code",
   "execution_count": 73,
   "id": "2817a3dc",
   "metadata": {},
   "outputs": [
    {
     "data": {
      "text/plain": [
       "count     126314\n",
       "unique       232\n",
       "top             \n",
       "freq      120890\n",
       "Name: notes, dtype: object"
      ]
     },
     "execution_count": 73,
     "metadata": {},
     "output_type": "execute_result"
    }
   ],
   "source": [
    "data_with_default_notes[\"notes\"].describe()"
   ]
  },
  {
   "cell_type": "code",
   "execution_count": null,
   "id": "021069ae",
   "metadata": {},
   "outputs": [],
   "source": []
  },
  {
   "cell_type": "code",
   "execution_count": 74,
   "id": "efe728ed",
   "metadata": {},
   "outputs": [],
   "source": [
    "%matplotlib inline"
   ]
  },
  {
   "cell_type": "code",
   "execution_count": 75,
   "id": "0cba7f49",
   "metadata": {},
   "outputs": [
    {
     "data": {
      "text/plain": [
       "<Axes: xlabel='year_id'>"
      ]
     },
     "execution_count": 75,
     "metadata": {},
     "output_type": "execute_result"
    },
    {
     "data": {
      "image/png": "[encoded data removed]",
      "text/plain": [
       "<Figure size 640x480 with 1 Axes>"
      ]
     },
     "metadata": {},
     "output_type": "display_data"
    }
   ],
   "source": [
    "nba[nba[\"fran_id\"] == \"Knicks\"].groupby(\"year_id\")[\"pts\"].sum().plot()"
   ]
  },
  {
   "cell_type": "code",
   "execution_count": null,
   "id": "ced74dce",
   "metadata": {},
   "outputs": [],
   "source": []
  },
  {
   "cell_type": "code",
   "execution_count": 76,
   "id": "0886727a",
   "metadata": {},
   "outputs": [
    {
     "data": {
      "text/plain": [
       "<Axes: >"
      ]
     },
     "execution_count": 76,
     "metadata": {},
     "output_type": "execute_result"
    },
    {
     "data": {
      "image/png": "[encoded data removed]",
      "text/plain": [
       "<Figure size 640x480 with 1 Axes>"
      ]
     },
     "metadata": {},
     "output_type": "display_data"
    }
   ],
   "source": [
    "nba[\"fran_id\"].value_counts().head(10).plot(kind=\"bar\")"
   ]
  },
  {
   "cell_type": "code",
   "execution_count": null,
   "id": "72a37719",
   "metadata": {},
   "outputs": [],
   "source": []
  },
  {
   "cell_type": "code",
   "execution_count": 77,
   "id": "150a70a8",
   "metadata": {},
   "outputs": [
    {
     "data": {
      "text/plain": [
       "<Axes: ylabel='game_result'>"
      ]
     },
     "execution_count": 77,
     "metadata": {},
     "output_type": "execute_result"
    },
    {
     "data": {
      "image/png": "[encoded data removed]",
      "text/plain": [
       "<Figure size 640x480 with 1 Axes>"
      ]
     },
     "metadata": {},
     "output_type": "display_data"
    }
   ],
   "source": [
    "nba[(nba[\"fran_id\"] == \"Heat\") & (nba[\"year_id\"] == 2013)][\"game_result\"].value_counts().plot(kind=\"pie\")"
   ]
  },
  {
   "cell_type": "code",
   "execution_count": null,
   "id": "013bb448",
   "metadata": {},
   "outputs": [],
   "source": []
  },
  {
   "cell_type": "code",
   "execution_count": null,
   "id": "15a72b67",
   "metadata": {},
   "outputs": [],
   "source": []
  },
  {
   "cell_type": "code",
   "execution_count": null,
   "id": "1d3e2bae",
   "metadata": {},
   "outputs": [],
   "source": []
  },
  {
   "cell_type": "code",
   "execution_count": null,
   "id": "8dcc85cd",
   "metadata": {},
   "outputs": [],
   "source": []
  },
  {
   "cell_type": "code",
   "execution_count": null,
   "id": "7ac055ea",
   "metadata": {},
   "outputs": [],
   "source": []
  },
  {
   "cell_type": "code",
   "execution_count": null,
   "id": "2477bf42",
   "metadata": {},
   "outputs": [],
   "source": []
  }
 ],
 "metadata": {
  "kernelspec": {
   "display_name": "Python 3 (ipykernel)",
   "language": "python",
   "name": "python3"
  },
  "language_info": {
   "codemirror_mode": {
    "name": "ipython",
    "version": 3
   },
   "file_extension": ".py",
   "mimetype": "text/x-python",
   "name": "python",
   "nbconvert_exporter": "python",
   "pygments_lexer": "ipython3",
   "version": "3.11.4"
  }
 },
 "nbformat": 4,
 "nbformat_minor": 5
}
