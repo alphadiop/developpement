{
 "cells": [
  {
   "cell_type": "code",
   "execution_count": 1,
   "id": "dadf1971",
   "metadata": {},
   "outputs": [],
   "source": [
    "import sqlalchemy as db\n",
    "import urllib\n",
    "import pandas as pd"
   ]
  },
  {
   "cell_type": "code",
   "execution_count": 19,
   "id": "d3996427",
   "metadata": {},
   "outputs": [],
   "source": [
    "server = 'localhost\\SQLEXPRESS'\n",
    "database ='message'\n",
    "username = 'alphadiop'\n",
    "password = 'Ibrahima1'\n",
    "driver = '{ODBC Driver 17 for SQL Server}'"
   ]
  },
  {
   "cell_type": "code",
   "execution_count": 20,
   "id": "6643b49e",
   "metadata": {},
   "outputs": [],
   "source": [
    "params = urllib.parse.quote_plus(r'DRIVER={ODBC Driver 17 for SQL Server};' +\n",
    "                                  ('SERVER={server};' +\n",
    "                                   'DATABASE={database};' +\n",
    "                                   'UID={username};' +\n",
    "                                   'PWD={password};'\n",
    "                                   'MARS_Connection=Yes').format(server=server,\n",
    "                                                                 database=database,\n",
    "                                                                 username=username,\n",
    "                                                                 password=password))"
   ]
  },
  {
   "cell_type": "code",
   "execution_count": 21,
   "id": "f211147c",
   "metadata": {},
   "outputs": [],
   "source": [
    "engine = db.create_engine(\"mssql+pyodbc:///?odbc_connect=%s\" % params)\n",
    "connexion = engine.connect()"
   ]
  },
  {
   "cell_type": "code",
   "execution_count": 24,
   "id": "180c23b0",
   "metadata": {},
   "outputs": [],
   "source": [
    "connexion.close()"
   ]
  },
  {
   "cell_type": "code",
   "execution_count": 23,
   "id": "0ce5aab9",
   "metadata": {},
   "outputs": [],
   "source": [
    "#query = pd.read_sql('SELECT * FROM artiste', engine)\n",
    "#connexion.execute(query)"
   ]
  },
  {
   "cell_type": "code",
   "execution_count": null,
   "id": "a43077e8",
   "metadata": {},
   "outputs": [],
   "source": [
    "#ODBC Driver 17 for SQL Server"
   ]
  }
 ],
 "metadata": {
  "kernelspec": {
   "display_name": "Python 3 (ipykernel)",
   "language": "python",
   "name": "python3"
  },
  "language_info": {
   "codemirror_mode": {
    "name": "ipython",
    "version": 3
   },
   "file_extension": ".py",
   "mimetype": "text/x-python",
   "name": "python",
   "nbconvert_exporter": "python",
   "pygments_lexer": "ipython3",
   "version": "3.11.4"
  }
 },
 "nbformat": 4,
 "nbformat_minor": 5
}
