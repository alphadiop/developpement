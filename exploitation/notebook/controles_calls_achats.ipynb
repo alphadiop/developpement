{
 "cells": [
  {
   "cell_type": "code",
   "execution_count": 1,
   "metadata": {},
   "outputs": [],
   "source": [
    "import pandas as pd"
   ]
  },
  {
   "cell_type": "code",
   "execution_count": 2,
   "metadata": {},
   "outputs": [],
   "source": [
    "chemin_sas = r'\\\\peb4SasGers02\\Production\\SASProduction\\CALLS\\SASData\\FichiersACHATS\\AchatsCalls20210920.xlsx'"
   ]
  },
  {
   "cell_type": "code",
   "execution_count": 3,
   "metadata": {},
   "outputs": [],
   "source": [
    "calls_achats_sas = pd.read_excel(chemin_sas, engine = 'openpyxl')"
   ]
  },
  {
   "cell_type": "code",
   "execution_count": 4,
   "metadata": {},
   "outputs": [],
   "source": [
    "chemin_python = 'E:\\data_python\\calls_achats\\calls\\calls_achats_20210921.xlsx'"
   ]
  },
  {
   "cell_type": "code",
   "execution_count": 5,
   "metadata": {},
   "outputs": [],
   "source": [
    "calls_achats_python = pd.read_excel(chemin_python, engine = 'openpyxl')"
   ]
  },
  {
   "cell_type": "code",
   "execution_count": 6,
   "metadata": {},
   "outputs": [
    {
     "data": {
      "text/plain": [
       "(11160, 12)"
      ]
     },
     "execution_count": 6,
     "metadata": {},
     "output_type": "execute_result"
    }
   ],
   "source": [
    "calls_achats_sas.shape"
   ]
  },
  {
   "cell_type": "code",
   "execution_count": 7,
   "metadata": {},
   "outputs": [
    {
     "data": {
      "text/plain": [
       "(11297, 12)"
      ]
     },
     "execution_count": 7,
     "metadata": {},
     "output_type": "execute_result"
    }
   ],
   "source": [
    "calls_achats_python.shape"
   ]
  },
  {
   "cell_type": "code",
   "execution_count": 8,
   "metadata": {},
   "outputs": [
    {
     "data": {
      "text/plain": [
       "137"
      ]
     },
     "execution_count": 8,
     "metadata": {},
     "output_type": "execute_result"
    }
   ],
   "source": [
    "len(calls_achats_python) - len(calls_achats_sas)"
   ]
  },
  {
   "cell_type": "code",
   "execution_count": 9,
   "metadata": {},
   "outputs": [
    {
     "data": {
      "text/html": [
       "<div>\n",
       "<style scoped>\n",
       "    .dataframe tbody tr th:only-of-type {\n",
       "        vertical-align: middle;\n",
       "    }\n",
       "\n",
       "    .dataframe tbody tr th {\n",
       "        vertical-align: top;\n",
       "    }\n",
       "\n",
       "    .dataframe thead th {\n",
       "        text-align: right;\n",
       "    }\n",
       "</style>\n",
       "<table border=\"1\" class=\"dataframe\">\n",
       "  <thead>\n",
       "    <tr style=\"text-align: right;\">\n",
       "      <th></th>\n",
       "      <th>Marche</th>\n",
       "      <th>IdCodeEAN</th>\n",
       "      <th>NomPresentation</th>\n",
       "      <th>NomMarqueBCB</th>\n",
       "      <th>IdCodePointDeVente</th>\n",
       "      <th>RaisonSociale</th>\n",
       "      <th>CodePostal</th>\n",
       "      <th>Ville</th>\n",
       "      <th>Priorite</th>\n",
       "      <th>IdCodeUGA</th>\n",
       "      <th>Date</th>\n",
       "      <th>Unite</th>\n",
       "    </tr>\n",
       "  </thead>\n",
       "  <tbody>\n",
       "    <tr>\n",
       "      <th>0</th>\n",
       "      <td>VIH</td>\n",
       "      <td>3400930153031</td>\n",
       "      <td>BIKTARVY 50/200/25MG CPR FL30</td>\n",
       "      <td>BIKTARVY</td>\n",
       "      <td>1331002</td>\n",
       "      <td>PHARMACIE MUTUALISTE DE BORDEAUX</td>\n",
       "      <td>33000</td>\n",
       "      <td>BORDEAUX</td>\n",
       "      <td>NaN</td>\n",
       "      <td>33BD2</td>\n",
       "      <td>2021-09-13</td>\n",
       "      <td>1</td>\n",
       "    </tr>\n",
       "    <tr>\n",
       "      <th>1</th>\n",
       "      <td>LLC</td>\n",
       "      <td>3400927949906</td>\n",
       "      <td>IMBRUVICA 140MG GELU FL120</td>\n",
       "      <td>IMBRUVICA</td>\n",
       "      <td>1342001</td>\n",
       "      <td>PHARMACIE CARMI SUD EST</td>\n",
       "      <td>34260</td>\n",
       "      <td>GRAISSESSAC</td>\n",
       "      <td>NaN</td>\n",
       "      <td>34BED</td>\n",
       "      <td>2021-09-14</td>\n",
       "      <td>1</td>\n",
       "    </tr>\n",
       "    <tr>\n",
       "      <th>2</th>\n",
       "      <td>VIH</td>\n",
       "      <td>3400930153031</td>\n",
       "      <td>BIKTARVY 50/200/25MG CPR FL30</td>\n",
       "      <td>BIKTARVY</td>\n",
       "      <td>1511001</td>\n",
       "      <td>PHARMACIE MUTUALISTE DE REIMS</td>\n",
       "      <td>51095</td>\n",
       "      <td>REIMS CEDEX</td>\n",
       "      <td>NaN</td>\n",
       "      <td>51REI</td>\n",
       "      <td>2021-09-14</td>\n",
       "      <td>1</td>\n",
       "    </tr>\n",
       "    <tr>\n",
       "      <th>3</th>\n",
       "      <td>HCV</td>\n",
       "      <td>3400930108765</td>\n",
       "      <td>MAVIRET 100MG/40MG CPR BT84</td>\n",
       "      <td>MAVIRET</td>\n",
       "      <td>1561001</td>\n",
       "      <td>PHARMACIE MUTUALISTE DE LORIENT</td>\n",
       "      <td>56100</td>\n",
       "      <td>LORIENT</td>\n",
       "      <td>NaN</td>\n",
       "      <td>56LOR</td>\n",
       "      <td>2021-09-16</td>\n",
       "      <td>1</td>\n",
       "    </tr>\n",
       "    <tr>\n",
       "      <th>4</th>\n",
       "      <td>VIH</td>\n",
       "      <td>3400927948954</td>\n",
       "      <td>TRIUMEQ 50/600/300MG CPR F30X1</td>\n",
       "      <td>TRIUMEQ</td>\n",
       "      <td>1561001</td>\n",
       "      <td>PHARMACIE MUTUALISTE DE LORIENT</td>\n",
       "      <td>56100</td>\n",
       "      <td>LORIENT</td>\n",
       "      <td>NaN</td>\n",
       "      <td>56LOR</td>\n",
       "      <td>2021-09-17</td>\n",
       "      <td>1</td>\n",
       "    </tr>\n",
       "  </tbody>\n",
       "</table>\n",
       "</div>"
      ],
      "text/plain": [
       "  Marche      IdCodeEAN                 NomPresentation NomMarqueBCB  \\\n",
       "0    VIH  3400930153031   BIKTARVY 50/200/25MG CPR FL30     BIKTARVY   \n",
       "1    LLC  3400927949906      IMBRUVICA 140MG GELU FL120    IMBRUVICA   \n",
       "2    VIH  3400930153031   BIKTARVY 50/200/25MG CPR FL30     BIKTARVY   \n",
       "3    HCV  3400930108765     MAVIRET 100MG/40MG CPR BT84      MAVIRET   \n",
       "4    VIH  3400927948954  TRIUMEQ 50/600/300MG CPR F30X1      TRIUMEQ   \n",
       "\n",
       "   IdCodePointDeVente                     RaisonSociale  CodePostal  \\\n",
       "0             1331002  PHARMACIE MUTUALISTE DE BORDEAUX       33000   \n",
       "1             1342001           PHARMACIE CARMI SUD EST       34260   \n",
       "2             1511001     PHARMACIE MUTUALISTE DE REIMS       51095   \n",
       "3             1561001   PHARMACIE MUTUALISTE DE LORIENT       56100   \n",
       "4             1561001   PHARMACIE MUTUALISTE DE LORIENT       56100   \n",
       "\n",
       "         Ville Priorite IdCodeUGA        Date  Unite  \n",
       "0     BORDEAUX      NaN     33BD2  2021-09-13      1  \n",
       "1  GRAISSESSAC      NaN     34BED  2021-09-14      1  \n",
       "2  REIMS CEDEX      NaN     51REI  2021-09-14      1  \n",
       "3      LORIENT      NaN     56LOR  2021-09-16      1  \n",
       "4      LORIENT      NaN     56LOR  2021-09-17      1  "
      ]
     },
     "execution_count": 9,
     "metadata": {},
     "output_type": "execute_result"
    }
   ],
   "source": [
    "calls_achats_python.head()"
   ]
  },
  {
   "cell_type": "code",
   "execution_count": 10,
   "metadata": {},
   "outputs": [
    {
     "data": {
      "text/html": [
       "<div>\n",
       "<style scoped>\n",
       "    .dataframe tbody tr th:only-of-type {\n",
       "        vertical-align: middle;\n",
       "    }\n",
       "\n",
       "    .dataframe tbody tr th {\n",
       "        vertical-align: top;\n",
       "    }\n",
       "\n",
       "    .dataframe thead th {\n",
       "        text-align: right;\n",
       "    }\n",
       "</style>\n",
       "<table border=\"1\" class=\"dataframe\">\n",
       "  <thead>\n",
       "    <tr style=\"text-align: right;\">\n",
       "      <th></th>\n",
       "      <th>Marche</th>\n",
       "      <th>IdCodeEAN</th>\n",
       "      <th>NomPresentation</th>\n",
       "      <th>NomMarqueBCB</th>\n",
       "      <th>IdCodePointDeVente</th>\n",
       "      <th>RaisonSociale</th>\n",
       "      <th>CodePostal</th>\n",
       "      <th>Ville</th>\n",
       "      <th>priorite</th>\n",
       "      <th>UGA</th>\n",
       "      <th>Date</th>\n",
       "      <th>UN</th>\n",
       "    </tr>\n",
       "  </thead>\n",
       "  <tbody>\n",
       "    <tr>\n",
       "      <th>0</th>\n",
       "      <td>VIH</td>\n",
       "      <td>3400930153031</td>\n",
       "      <td>BIKTARVY 50/200/25MG CPR FL30</td>\n",
       "      <td>BIKTARVY</td>\n",
       "      <td>1331002</td>\n",
       "      <td>PHARMACIE MUTUALISTE DE BORDEAUX</td>\n",
       "      <td>33000</td>\n",
       "      <td>BORDEAUX</td>\n",
       "      <td></td>\n",
       "      <td>33BD2</td>\n",
       "      <td>2021-09-13</td>\n",
       "      <td>1</td>\n",
       "    </tr>\n",
       "    <tr>\n",
       "      <th>1</th>\n",
       "      <td>LLC</td>\n",
       "      <td>3400927949906</td>\n",
       "      <td>IMBRUVICA 140MG GELU FL120</td>\n",
       "      <td>IMBRUVICA</td>\n",
       "      <td>1342001</td>\n",
       "      <td>PHARMACIE CARMI SUD EST</td>\n",
       "      <td>34260</td>\n",
       "      <td>GRAISSESSAC</td>\n",
       "      <td></td>\n",
       "      <td>34BED</td>\n",
       "      <td>2021-09-14</td>\n",
       "      <td>1</td>\n",
       "    </tr>\n",
       "    <tr>\n",
       "      <th>2</th>\n",
       "      <td>VIH</td>\n",
       "      <td>3400930153031</td>\n",
       "      <td>BIKTARVY 50/200/25MG CPR FL30</td>\n",
       "      <td>BIKTARVY</td>\n",
       "      <td>1511001</td>\n",
       "      <td>PHARMACIE MUTUALISTE DE REIMS</td>\n",
       "      <td>51095</td>\n",
       "      <td>REIMS CEDEX</td>\n",
       "      <td></td>\n",
       "      <td>51REI</td>\n",
       "      <td>2021-09-14</td>\n",
       "      <td>1</td>\n",
       "    </tr>\n",
       "    <tr>\n",
       "      <th>3</th>\n",
       "      <td>HCV</td>\n",
       "      <td>3400930108765</td>\n",
       "      <td>MAVIRET 100MG/40MG CPR BT84</td>\n",
       "      <td>MAVIRET</td>\n",
       "      <td>1561001</td>\n",
       "      <td>PHARMACIE MUTUALISTE DE LORIENT</td>\n",
       "      <td>56100</td>\n",
       "      <td>LORIENT</td>\n",
       "      <td></td>\n",
       "      <td>56LOR</td>\n",
       "      <td>2021-09-16</td>\n",
       "      <td>1</td>\n",
       "    </tr>\n",
       "    <tr>\n",
       "      <th>4</th>\n",
       "      <td>VIH</td>\n",
       "      <td>3400927948954</td>\n",
       "      <td>TRIUMEQ 50/600/300MG CPR F30X1</td>\n",
       "      <td>TRIUMEQ</td>\n",
       "      <td>1561001</td>\n",
       "      <td>PHARMACIE MUTUALISTE DE LORIENT</td>\n",
       "      <td>56100</td>\n",
       "      <td>LORIENT</td>\n",
       "      <td></td>\n",
       "      <td>56LOR</td>\n",
       "      <td>2021-09-17</td>\n",
       "      <td>1</td>\n",
       "    </tr>\n",
       "  </tbody>\n",
       "</table>\n",
       "</div>"
      ],
      "text/plain": [
       "  Marche      IdCodeEAN                 NomPresentation NomMarqueBCB  \\\n",
       "0    VIH  3400930153031   BIKTARVY 50/200/25MG CPR FL30     BIKTARVY   \n",
       "1    LLC  3400927949906      IMBRUVICA 140MG GELU FL120    IMBRUVICA   \n",
       "2    VIH  3400930153031   BIKTARVY 50/200/25MG CPR FL30     BIKTARVY   \n",
       "3    HCV  3400930108765     MAVIRET 100MG/40MG CPR BT84      MAVIRET   \n",
       "4    VIH  3400927948954  TRIUMEQ 50/600/300MG CPR F30X1      TRIUMEQ   \n",
       "\n",
       "   IdCodePointDeVente                     RaisonSociale  CodePostal  \\\n",
       "0             1331002  PHARMACIE MUTUALISTE DE BORDEAUX       33000   \n",
       "1             1342001           PHARMACIE CARMI SUD EST       34260   \n",
       "2             1511001     PHARMACIE MUTUALISTE DE REIMS       51095   \n",
       "3             1561001   PHARMACIE MUTUALISTE DE LORIENT       56100   \n",
       "4             1561001   PHARMACIE MUTUALISTE DE LORIENT       56100   \n",
       "\n",
       "         Ville priorite    UGA       Date  UN  \n",
       "0     BORDEAUX           33BD2 2021-09-13   1  \n",
       "1  GRAISSESSAC           34BED 2021-09-14   1  \n",
       "2  REIMS CEDEX           51REI 2021-09-14   1  \n",
       "3      LORIENT           56LOR 2021-09-16   1  \n",
       "4      LORIENT           56LOR 2021-09-17   1  "
      ]
     },
     "execution_count": 10,
     "metadata": {},
     "output_type": "execute_result"
    }
   ],
   "source": [
    "calls_achats_sas.head()"
   ]
  },
  {
   "cell_type": "code",
   "execution_count": 15,
   "metadata": {},
   "outputs": [],
   "source": [
    "df_sas = calls_achats_sas.groupby('Marche').agg(IdCodeEAN_sas_count=pd.NamedAgg(column='IdCodeEAN', aggfunc='count'),\n",
    "                                       IdCodePointDeVente_sas_count=pd.NamedAgg(column='IdCodePointDeVente', aggfunc='count'),\n",
    "                                                      UGA_sas_count=pd.NamedAgg(column='UGA', aggfunc='min'),\n",
    "                                                         UN_sas_sum=pd.NamedAgg(column='UN', aggfunc='sum'),\n",
    "                                                       UN_sas_count=pd.NamedAgg(column='UN', aggfunc='count')\n",
    "                                               )                                               "
   ]
  },
  {
   "cell_type": "code",
   "execution_count": 16,
   "metadata": {},
   "outputs": [],
   "source": [
    "df_python = calls_achats_python.groupby('Marche').agg(IdCodeEAN_python_count=pd.NamedAgg(column='IdCodeEAN', aggfunc='count'),\n",
    "                                             IdCodePointDeVente_python_count=pd.NamedAgg(column='IdCodePointDeVente', aggfunc='count'),\n",
    "                                                            UGA_python_count=pd.NamedAgg(column='IdCodeUGA', aggfunc='min'),\n",
    "                                                               UN_python_sum=pd.NamedAgg(column='Unite', aggfunc='sum'),\n",
    "                                                             UN_python_count=pd.NamedAgg(column='Unite', aggfunc='count')\n",
    "                                                     )       "
   ]
  },
  {
   "cell_type": "code",
   "execution_count": 17,
   "metadata": {},
   "outputs": [],
   "source": [
    "calls_achats_compare = pd.concat([df_sas, df_python], axis = 1)"
   ]
  },
  {
   "cell_type": "code",
   "execution_count": 18,
   "metadata": {},
   "outputs": [
    {
     "data": {
      "text/html": [
       "<div>\n",
       "<style scoped>\n",
       "    .dataframe tbody tr th:only-of-type {\n",
       "        vertical-align: middle;\n",
       "    }\n",
       "\n",
       "    .dataframe tbody tr th {\n",
       "        vertical-align: top;\n",
       "    }\n",
       "\n",
       "    .dataframe thead th {\n",
       "        text-align: right;\n",
       "    }\n",
       "</style>\n",
       "<table border=\"1\" class=\"dataframe\">\n",
       "  <thead>\n",
       "    <tr style=\"text-align: right;\">\n",
       "      <th></th>\n",
       "      <th>IdCodeEAN_sas_count</th>\n",
       "      <th>IdCodePointDeVente_sas_count</th>\n",
       "      <th>UGA_sas_count</th>\n",
       "      <th>UN_sas_sum</th>\n",
       "      <th>UN_sas_count</th>\n",
       "      <th>IdCodeEAN_python_count</th>\n",
       "      <th>IdCodePointDeVente_python_count</th>\n",
       "      <th>UGA_python_count</th>\n",
       "      <th>UN_python_sum</th>\n",
       "      <th>UN_python_count</th>\n",
       "    </tr>\n",
       "    <tr>\n",
       "      <th>Marche</th>\n",
       "      <th></th>\n",
       "      <th></th>\n",
       "      <th></th>\n",
       "      <th></th>\n",
       "      <th></th>\n",
       "      <th></th>\n",
       "      <th></th>\n",
       "      <th></th>\n",
       "      <th></th>\n",
       "      <th></th>\n",
       "    </tr>\n",
       "  </thead>\n",
       "  <tbody>\n",
       "    <tr>\n",
       "      <th>CALL_BIOTHERAPIE</th>\n",
       "      <td>1304</td>\n",
       "      <td>1304</td>\n",
       "      <td>01BEL</td>\n",
       "      <td>1406</td>\n",
       "      <td>1304</td>\n",
       "      <td>1304</td>\n",
       "      <td>1304</td>\n",
       "      <td>01BEL</td>\n",
       "      <td>1405</td>\n",
       "      <td>1304</td>\n",
       "    </tr>\n",
       "    <tr>\n",
       "      <th>CANCER_PROSTATE</th>\n",
       "      <td>334</td>\n",
       "      <td>334</td>\n",
       "      <td>01BEL</td>\n",
       "      <td>346</td>\n",
       "      <td>334</td>\n",
       "      <td>335</td>\n",
       "      <td>335</td>\n",
       "      <td>01BEL</td>\n",
       "      <td>347</td>\n",
       "      <td>335</td>\n",
       "    </tr>\n",
       "    <tr>\n",
       "      <th>CLOVIS_ONCO</th>\n",
       "      <td>309</td>\n",
       "      <td>309</td>\n",
       "      <td>01BEL</td>\n",
       "      <td>339</td>\n",
       "      <td>309</td>\n",
       "      <td>309</td>\n",
       "      <td>309</td>\n",
       "      <td>01BEL</td>\n",
       "      <td>339</td>\n",
       "      <td>309</td>\n",
       "    </tr>\n",
       "    <tr>\n",
       "      <th>GIOTRIF</th>\n",
       "      <td>489</td>\n",
       "      <td>489</td>\n",
       "      <td>01BEL</td>\n",
       "      <td>514</td>\n",
       "      <td>489</td>\n",
       "      <td>484</td>\n",
       "      <td>484</td>\n",
       "      <td>01BEL</td>\n",
       "      <td>508</td>\n",
       "      <td>484</td>\n",
       "    </tr>\n",
       "    <tr>\n",
       "      <th>HCV</th>\n",
       "      <td>98</td>\n",
       "      <td>98</td>\n",
       "      <td>01BEL</td>\n",
       "      <td>100</td>\n",
       "      <td>98</td>\n",
       "      <td>98</td>\n",
       "      <td>98</td>\n",
       "      <td>01BEL</td>\n",
       "      <td>100</td>\n",
       "      <td>98</td>\n",
       "    </tr>\n",
       "    <tr>\n",
       "      <th>IDACIO</th>\n",
       "      <td>257</td>\n",
       "      <td>257</td>\n",
       "      <td>01BEL</td>\n",
       "      <td>326</td>\n",
       "      <td>257</td>\n",
       "      <td>257</td>\n",
       "      <td>257</td>\n",
       "      <td>01BEL</td>\n",
       "      <td>326</td>\n",
       "      <td>257</td>\n",
       "    </tr>\n",
       "    <tr>\n",
       "      <th>KESIMPTA</th>\n",
       "      <td>3</td>\n",
       "      <td>3</td>\n",
       "      <td>26DIE</td>\n",
       "      <td>7</td>\n",
       "      <td>3</td>\n",
       "      <td>3</td>\n",
       "      <td>3</td>\n",
       "      <td>26DIE</td>\n",
       "      <td>7</td>\n",
       "      <td>3</td>\n",
       "    </tr>\n",
       "    <tr>\n",
       "      <th>LLC</th>\n",
       "      <td>894</td>\n",
       "      <td>894</td>\n",
       "      <td>01BOU</td>\n",
       "      <td>1097</td>\n",
       "      <td>894</td>\n",
       "      <td>896</td>\n",
       "      <td>896</td>\n",
       "      <td>01BOU</td>\n",
       "      <td>1099</td>\n",
       "      <td>896</td>\n",
       "    </tr>\n",
       "    <tr>\n",
       "      <th>OFEV</th>\n",
       "      <td>471</td>\n",
       "      <td>471</td>\n",
       "      <td>01BOU</td>\n",
       "      <td>489</td>\n",
       "      <td>471</td>\n",
       "      <td>447</td>\n",
       "      <td>447</td>\n",
       "      <td>01BOU</td>\n",
       "      <td>465</td>\n",
       "      <td>447</td>\n",
       "    </tr>\n",
       "    <tr>\n",
       "      <th>PREVYMIS</th>\n",
       "      <td>39</td>\n",
       "      <td>39</td>\n",
       "      <td>02SQU</td>\n",
       "      <td>43</td>\n",
       "      <td>39</td>\n",
       "      <td>39</td>\n",
       "      <td>39</td>\n",
       "      <td>02SQU</td>\n",
       "      <td>43</td>\n",
       "      <td>39</td>\n",
       "    </tr>\n",
       "    <tr>\n",
       "      <th>SEP</th>\n",
       "      <td>8</td>\n",
       "      <td>8</td>\n",
       "      <td>34MON</td>\n",
       "      <td>8</td>\n",
       "      <td>8</td>\n",
       "      <td>8</td>\n",
       "      <td>8</td>\n",
       "      <td>34MON</td>\n",
       "      <td>8</td>\n",
       "      <td>8</td>\n",
       "    </tr>\n",
       "    <tr>\n",
       "      <th>VIH</th>\n",
       "      <td>6954</td>\n",
       "      <td>6954</td>\n",
       "      <td>01BEL</td>\n",
       "      <td>8596</td>\n",
       "      <td>6954</td>\n",
       "      <td>7117</td>\n",
       "      <td>7117</td>\n",
       "      <td>01BEL</td>\n",
       "      <td>8790</td>\n",
       "      <td>7117</td>\n",
       "    </tr>\n",
       "  </tbody>\n",
       "</table>\n",
       "</div>"
      ],
      "text/plain": [
       "                  IdCodeEAN_sas_count  IdCodePointDeVente_sas_count  \\\n",
       "Marche                                                                \n",
       "CALL_BIOTHERAPIE                 1304                          1304   \n",
       "CANCER_PROSTATE                   334                           334   \n",
       "CLOVIS_ONCO                       309                           309   \n",
       "GIOTRIF                           489                           489   \n",
       "HCV                                98                            98   \n",
       "IDACIO                            257                           257   \n",
       "KESIMPTA                            3                             3   \n",
       "LLC                               894                           894   \n",
       "OFEV                              471                           471   \n",
       "PREVYMIS                           39                            39   \n",
       "SEP                                 8                             8   \n",
       "VIH                              6954                          6954   \n",
       "\n",
       "                 UGA_sas_count  UN_sas_sum  UN_sas_count  \\\n",
       "Marche                                                     \n",
       "CALL_BIOTHERAPIE         01BEL        1406          1304   \n",
       "CANCER_PROSTATE          01BEL         346           334   \n",
       "CLOVIS_ONCO              01BEL         339           309   \n",
       "GIOTRIF                  01BEL         514           489   \n",
       "HCV                      01BEL         100            98   \n",
       "IDACIO                   01BEL         326           257   \n",
       "KESIMPTA                 26DIE           7             3   \n",
       "LLC                      01BOU        1097           894   \n",
       "OFEV                     01BOU         489           471   \n",
       "PREVYMIS                 02SQU          43            39   \n",
       "SEP                      34MON           8             8   \n",
       "VIH                      01BEL        8596          6954   \n",
       "\n",
       "                  IdCodeEAN_python_count  IdCodePointDeVente_python_count  \\\n",
       "Marche                                                                      \n",
       "CALL_BIOTHERAPIE                    1304                             1304   \n",
       "CANCER_PROSTATE                      335                              335   \n",
       "CLOVIS_ONCO                          309                              309   \n",
       "GIOTRIF                              484                              484   \n",
       "HCV                                   98                               98   \n",
       "IDACIO                               257                              257   \n",
       "KESIMPTA                               3                                3   \n",
       "LLC                                  896                              896   \n",
       "OFEV                                 447                              447   \n",
       "PREVYMIS                              39                               39   \n",
       "SEP                                    8                                8   \n",
       "VIH                                 7117                             7117   \n",
       "\n",
       "                 UGA_python_count  UN_python_sum  UN_python_count  \n",
       "Marche                                                             \n",
       "CALL_BIOTHERAPIE            01BEL           1405             1304  \n",
       "CANCER_PROSTATE             01BEL            347              335  \n",
       "CLOVIS_ONCO                 01BEL            339              309  \n",
       "GIOTRIF                     01BEL            508              484  \n",
       "HCV                         01BEL            100               98  \n",
       "IDACIO                      01BEL            326              257  \n",
       "KESIMPTA                    26DIE              7                3  \n",
       "LLC                         01BOU           1099              896  \n",
       "OFEV                        01BOU            465              447  \n",
       "PREVYMIS                    02SQU             43               39  \n",
       "SEP                         34MON              8                8  \n",
       "VIH                         01BEL           8790             7117  "
      ]
     },
     "execution_count": 18,
     "metadata": {},
     "output_type": "execute_result"
    }
   ],
   "source": [
    "calls_achats_compare"
   ]
  },
  {
   "cell_type": "code",
   "execution_count": 21,
   "metadata": {},
   "outputs": [
    {
     "data": {
      "text/html": [
       "<div>\n",
       "<style scoped>\n",
       "    .dataframe tbody tr th:only-of-type {\n",
       "        vertical-align: middle;\n",
       "    }\n",
       "\n",
       "    .dataframe tbody tr th {\n",
       "        vertical-align: top;\n",
       "    }\n",
       "\n",
       "    .dataframe thead th {\n",
       "        text-align: right;\n",
       "    }\n",
       "</style>\n",
       "<table border=\"1\" class=\"dataframe\">\n",
       "  <thead>\n",
       "    <tr style=\"text-align: right;\">\n",
       "      <th></th>\n",
       "      <th>IdCodePointDeVente</th>\n",
       "    </tr>\n",
       "    <tr>\n",
       "      <th>priorite</th>\n",
       "      <th></th>\n",
       "    </tr>\n",
       "  </thead>\n",
       "  <tbody>\n",
       "    <tr>\n",
       "      <th></th>\n",
       "      <td>10310</td>\n",
       "    </tr>\n",
       "    <tr>\n",
       "      <th>P</th>\n",
       "      <td>703</td>\n",
       "    </tr>\n",
       "    <tr>\n",
       "      <th>UP</th>\n",
       "      <td>147</td>\n",
       "    </tr>\n",
       "  </tbody>\n",
       "</table>\n",
       "</div>"
      ],
      "text/plain": [
       "          IdCodePointDeVente\n",
       "priorite                    \n",
       "                       10310\n",
       "P                        703\n",
       "UP                       147"
      ]
     },
     "execution_count": 21,
     "metadata": {},
     "output_type": "execute_result"
    }
   ],
   "source": [
    "calls_achats_sas.groupby('priorite').agg({'IdCodePointDeVente' : 'count'})"
   ]
  },
  {
   "cell_type": "code",
   "execution_count": 22,
   "metadata": {},
   "outputs": [
    {
     "data": {
      "text/html": [
       "<div>\n",
       "<style scoped>\n",
       "    .dataframe tbody tr th:only-of-type {\n",
       "        vertical-align: middle;\n",
       "    }\n",
       "\n",
       "    .dataframe tbody tr th {\n",
       "        vertical-align: top;\n",
       "    }\n",
       "\n",
       "    .dataframe thead th {\n",
       "        text-align: right;\n",
       "    }\n",
       "</style>\n",
       "<table border=\"1\" class=\"dataframe\">\n",
       "  <thead>\n",
       "    <tr style=\"text-align: right;\">\n",
       "      <th></th>\n",
       "      <th>IdCodePointDeVente</th>\n",
       "    </tr>\n",
       "    <tr>\n",
       "      <th>Priorite</th>\n",
       "      <th></th>\n",
       "    </tr>\n",
       "  </thead>\n",
       "  <tbody>\n",
       "    <tr>\n",
       "      <th>P</th>\n",
       "      <td>744</td>\n",
       "    </tr>\n",
       "    <tr>\n",
       "      <th>UP</th>\n",
       "      <td>147</td>\n",
       "    </tr>\n",
       "  </tbody>\n",
       "</table>\n",
       "</div>"
      ],
      "text/plain": [
       "          IdCodePointDeVente\n",
       "Priorite                    \n",
       "P                        744\n",
       "UP                       147"
      ]
     },
     "execution_count": 22,
     "metadata": {},
     "output_type": "execute_result"
    }
   ],
   "source": [
    "calls_achats_python.groupby('Priorite').agg({'IdCodePointDeVente' : 'count'})"
   ]
  },
  {
   "cell_type": "markdown",
   "metadata": {},
   "source": [
    "### Comptage du nombre de points de ventes distinct sur les priorités P et UP "
   ]
  },
  {
   "cell_type": "code",
   "execution_count": 27,
   "metadata": {},
   "outputs": [],
   "source": [
    "filtre_priorite_sas = calls_achats_sas.priorite.isin(['P', 'UP'])"
   ]
  },
  {
   "cell_type": "code",
   "execution_count": 28,
   "metadata": {},
   "outputs": [],
   "source": [
    "filtre_priorite_python = calls_achats_python.Priorite.isin(['P', 'UP'])"
   ]
  },
  {
   "cell_type": "code",
   "execution_count": 29,
   "metadata": {},
   "outputs": [],
   "source": [
    "liste_point_de_ventes_sas = set(calls_achats_sas[filtre_priorite_sas].IdCodePointDeVente)\n",
    "liste_point_de_ventes_python = set(calls_achats_python[filtre_priorite_python].IdCodePointDeVente)"
   ]
  },
  {
   "cell_type": "code",
   "execution_count": 30,
   "metadata": {},
   "outputs": [
    {
     "name": "stdout",
     "output_type": "stream",
     "text": [
      "Le nombre de point de vente SAS    :  450\n",
      "Le nombre de point de vente Python :  450\n"
     ]
    }
   ],
   "source": [
    "print(\"Le nombre de point de vente SAS    : \", len(liste_point_de_ventes_sas))\n",
    "print(\"Le nombre de point de vente Python : \", len(liste_point_de_ventes_python))"
   ]
  },
  {
   "cell_type": "markdown",
   "metadata": {},
   "source": [
    "### Combien de point de ventes a-t-on en commun ?"
   ]
  },
  {
   "cell_type": "code",
   "execution_count": 31,
   "metadata": {},
   "outputs": [
    {
     "data": {
      "text/plain": [
       "190"
      ]
     },
     "execution_count": 31,
     "metadata": {},
     "output_type": "execute_result"
    }
   ],
   "source": [
    "len(liste_point_de_ventes_sas.intersection(liste_point_de_ventes_python))"
   ]
  },
  {
   "cell_type": "markdown",
   "metadata": {},
   "source": [
    "# Verifier que les priorités P ne sont pas dans les refus des 3 dernières semaines"
   ]
  },
  {
   "cell_type": "markdown",
   "metadata": {},
   "source": [
    "### Connexion SQLServer"
   ]
  },
  {
   "cell_type": "code",
   "execution_count": 32,
   "metadata": {},
   "outputs": [],
   "source": [
    "import sqlalchemy as db\n",
    "import urllib\n",
    "import datetime"
   ]
  },
  {
   "cell_type": "markdown",
   "metadata": {},
   "source": [
    "### Paramètres du serveur SQL"
   ]
  },
  {
   "cell_type": "code",
   "execution_count": 33,
   "metadata": {},
   "outputs": [],
   "source": [
    "server='PEB4GERSSQL07'\n",
    "port=1433\n",
    "database='STAT' \n",
    "username='LoginStat' \n",
    "password='LoginStat1'"
   ]
  },
  {
   "cell_type": "markdown",
   "metadata": {},
   "source": [
    "### Définition de la connexion"
   ]
  },
  {
   "cell_type": "code",
   "execution_count": 34,
   "metadata": {},
   "outputs": [],
   "source": [
    "params = urllib.parse.quote_plus(r'DRIVER={ODBC Driver 13 for SQL Server};' +\n",
    "                                  ('SERVER={server},{port};' +\n",
    "                                   'DATABASE={database};' +\n",
    "                                   'UID={username};' +\n",
    "                                   'PWD={password};'\n",
    "                                   'MARS_Connection=Yes').format(server=server,\n",
    "                                                                 port=port,\n",
    "                                                                 database=database,\n",
    "                                                                 username=username,\n",
    "                                                                 password=password))"
   ]
  },
  {
   "cell_type": "code",
   "execution_count": 35,
   "metadata": {},
   "outputs": [],
   "source": [
    "engine = db.create_engine(\"mssql+pyodbc:///?odbc_connect=%s\" % params)"
   ]
  },
  {
   "cell_type": "code",
   "execution_count": 36,
   "metadata": {},
   "outputs": [],
   "source": [
    "connexion = engine.connect()"
   ]
  },
  {
   "cell_type": "markdown",
   "metadata": {},
   "source": [
    "### SQL query"
   ]
  },
  {
   "cell_type": "code",
   "execution_count": 37,
   "metadata": {},
   "outputs": [],
   "source": [
    "date_de_lancement = datetime.date.today()\n",
    "trois_semaines = datetime.timedelta(weeks=3)"
   ]
  },
  {
   "cell_type": "code",
   "execution_count": 38,
   "metadata": {},
   "outputs": [
    {
     "name": "stdout",
     "output_type": "stream",
     "text": [
      "2021-09-21\n",
      "2021-08-31\n"
     ]
    }
   ],
   "source": [
    "date_de_lancement_moins_3_semaines = date_de_lancement - trois_semaines\n",
    "print(date_de_lancement)\n",
    "print(date_de_lancement_moins_3_semaines)"
   ]
  },
  {
   "cell_type": "code",
   "execution_count": 39,
   "metadata": {},
   "outputs": [],
   "source": [
    "query = f\"\"\"\n",
    "        SELECT DISTINCT \n",
    "               [IdCodePointDeVente]\n",
    "              ,[DateIntegration]\n",
    "          FROM [dbo].[CallsRefus]\n",
    "         WHERE [DateIntegration] BETWEEN '{date_de_lancement_moins_3_semaines}' AND '{date_de_lancement}'\n",
    "      ORDER BY [DateIntegration]\n",
    "  ;\n",
    "        \"\"\""
   ]
  },
  {
   "cell_type": "code",
   "execution_count": 40,
   "metadata": {},
   "outputs": [
    {
     "name": "stdout",
     "output_type": "stream",
     "text": [
      "\n",
      "        SELECT DISTINCT \n",
      "               [IdCodePointDeVente]\n",
      "              ,[DateIntegration]\n",
      "          FROM [dbo].[CallsRefus]\n",
      "         WHERE [DateIntegration] BETWEEN '2021-08-31' AND '2021-09-21'\n",
      "      ORDER BY [DateIntegration]\n",
      "  ;\n",
      "        \n"
     ]
    }
   ],
   "source": [
    " print(query)"
   ]
  },
  {
   "cell_type": "code",
   "execution_count": 41,
   "metadata": {},
   "outputs": [],
   "source": [
    "refus = pd.read_sql(query, engine)"
   ]
  },
  {
   "cell_type": "code",
   "execution_count": 43,
   "metadata": {},
   "outputs": [
    {
     "data": {
      "text/html": [
       "<div>\n",
       "<style scoped>\n",
       "    .dataframe tbody tr th:only-of-type {\n",
       "        vertical-align: middle;\n",
       "    }\n",
       "\n",
       "    .dataframe tbody tr th {\n",
       "        vertical-align: top;\n",
       "    }\n",
       "\n",
       "    .dataframe thead th {\n",
       "        text-align: right;\n",
       "    }\n",
       "</style>\n",
       "<table border=\"1\" class=\"dataframe\">\n",
       "  <thead>\n",
       "    <tr style=\"text-align: right;\">\n",
       "      <th></th>\n",
       "      <th>IdCodePointDeVente</th>\n",
       "      <th>DateIntegration</th>\n",
       "    </tr>\n",
       "  </thead>\n",
       "  <tbody>\n",
       "    <tr>\n",
       "      <th>808</th>\n",
       "      <td>2208569</td>\n",
       "      <td>2021-09-15</td>\n",
       "    </tr>\n",
       "    <tr>\n",
       "      <th>809</th>\n",
       "      <td>2213186</td>\n",
       "      <td>2021-09-15</td>\n",
       "    </tr>\n",
       "    <tr>\n",
       "      <th>810</th>\n",
       "      <td>2233438</td>\n",
       "      <td>2021-09-15</td>\n",
       "    </tr>\n",
       "    <tr>\n",
       "      <th>811</th>\n",
       "      <td>2270045</td>\n",
       "      <td>2021-09-15</td>\n",
       "    </tr>\n",
       "    <tr>\n",
       "      <th>812</th>\n",
       "      <td>2273376</td>\n",
       "      <td>2021-09-15</td>\n",
       "    </tr>\n",
       "  </tbody>\n",
       "</table>\n",
       "</div>"
      ],
      "text/plain": [
       "    IdCodePointDeVente DateIntegration\n",
       "808            2208569      2021-09-15\n",
       "809            2213186      2021-09-15\n",
       "810            2233438      2021-09-15\n",
       "811            2270045      2021-09-15\n",
       "812            2273376      2021-09-15"
      ]
     },
     "execution_count": 43,
     "metadata": {},
     "output_type": "execute_result"
    }
   ],
   "source": [
    "refus.tail()"
   ]
  },
  {
   "cell_type": "code",
   "execution_count": 44,
   "metadata": {},
   "outputs": [],
   "source": [
    "liste_point_de_ventes_refus = set(refus[\"IdCodePointDeVente\"])"
   ]
  },
  {
   "cell_type": "code",
   "execution_count": 45,
   "metadata": {},
   "outputs": [
    {
     "data": {
      "text/plain": [
       "0"
      ]
     },
     "execution_count": 45,
     "metadata": {},
     "output_type": "execute_result"
    }
   ],
   "source": [
    "# On ne doit pas avoir de point de vente parmis les refus : len ==> 0\n",
    "len(liste_point_de_ventes_python.intersection(liste_point_de_ventes_refus))"
   ]
  },
  {
   "cell_type": "code",
   "execution_count": null,
   "metadata": {},
   "outputs": [],
   "source": []
  }
 ],
 "metadata": {
  "kernelspec": {
   "display_name": "Python 3",
   "language": "python",
   "name": "python3"
  },
  "language_info": {
   "codemirror_mode": {
    "name": "ipython",
    "version": 3
   },
   "file_extension": ".py",
   "mimetype": "text/x-python",
   "name": "python",
   "nbconvert_exporter": "python",
   "pygments_lexer": "ipython3",
   "version": "3.7.10"
  }
 },
 "nbformat": 4,
 "nbformat_minor": 4
}
